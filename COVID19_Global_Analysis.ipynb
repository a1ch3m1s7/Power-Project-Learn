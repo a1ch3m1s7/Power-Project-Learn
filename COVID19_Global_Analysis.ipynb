{
 "cells": [
  {
   "cell_type": "markdown",
   "metadata": {},
   "source": [
    "# 🌍 COVID-19 Global Data Analysis\n",
    "This notebook analyzes global COVID-19 trends using the dataset from Our World in Data."
   ]
  },
  {
   "cell_type": "code",
   "execution_count": null,
   "metadata": {},
   "outputs": [],
   "source": [
    "import pandas as pd\n",
    "import matplotlib.pyplot as plt\n",
    "import seaborn as sns\n",
    "import plotly.express as px\n",
    "\n",
    "# Load the dataset (make sure the file is in the same directory)\n",
    "df = pd.read_csv(\"owid-covid-data.csv\")\n",
    "df.head()"
   ]
  },
  {
   "cell_type": "markdown",
   "metadata": {},
   "source": ["## ✅ Data Cleaning"]
  },
  {
   "cell_type": "code",
   "execution_count": null,
   "metadata": {},
   "outputs": [],
   "source": [
    "# Drop rows with missing location or date\n",
    "df.dropna(subset=['location', 'date'], inplace=True)\n",
    "df['date'] = pd.to_datetime(df['date'])\n",
    "\n",
    "# Fill numeric missing values with 0 for analysis\n",
    "df.fillna(0, inplace=True)\n",
    "df.info()"
   ]
  },
  {
   "cell_type": "markdown",
   "metadata": {},
   "source": ["## 📈 Time Trend Analysis"]
  },
  {
   "cell_type": "code",
   "execution_count": null,
   "metadata": {},
   "outputs": [],
   "source": [
    "# Global trend over time\n",
    "global_trend = df.groupby('date')[['new_cases', 'new_deaths', 'new_vaccinations']].sum()\n",
    "global_trend.plot(title='Global Daily COVID-19 Cases, Deaths, and Vaccinations', figsize=(12,6))\n",
    "plt.xlabel('Date')\n",
    "plt.ylabel('Count')\n",
    "plt.grid(True)\n",
    "plt.show()"
   ]
  },
  {
   "cell_type": "markdown",
   "metadata": {},
   "source": ["## 🌎 Compare Countries/Regions"]
  },
  {
   "cell_type": "code",
   "execution_count": null,
   "metadata": {},
   "outputs": [],
   "source": [
    "# Select countries\n",
    "countries = ['United States', 'India', 'Brazil', 'Germany', 'Nigeria']\n",
    "country_data = df[df['location'].isin(countries)]\n",
    "\n",
    "# Plot new cases over time\n",
    "plt.figure(figsize=(12,6))\n",
    "sns.lineplot(data=country_data, x='date', y='new_cases', hue='location')\n",
    "plt.title('New COVID-19 Cases Over Time by Country')\n",
    "plt.ylabel('New Cases')\n",
    "plt.xlabel('Date')\n",
    "plt.grid(True)\n",
    "plt.show()"
   ]
  },
  {
   "cell_type": "markdown",
   "metadata": {},
   "source": ["## 🗺️ World Map Visualization"]
  },
  {
   "cell_type": "code",
   "execution_count": null,
   "metadata": {},
   "outputs": [],
   "source": [
    "# Latest date data\n",
    "latest_date = df['date'].max()\n",
    "latest_data = df[df['date'] == latest_date]\n",
    "\n",
    "# Choropleth map\n",
    "fig = px.choropleth(latest_data, \n",
    "                    locations='iso_code', \n",
    "                    color='total_cases',\n",
    "                    hover_name='location', \n",
    "                    title=f'Total COVID-19 Cases as of {latest_date.date()}',\n",
    "                    color_continuous_scale='Reds')\n",
    "fig.show()"
   ]
  },
  {
   "cell_type": "markdown",
   "metadata": {},
   "source": ["## 📊 Summary and Findings"]
  },
  {
   "cell_type": "markdown",
   "metadata": {},
   "source": [
    "- COVID-19 daily trends show peaks and declines over time, reflecting waves.\n",
    "- Vaccination increased gradually while new deaths decreased.\n",
    "- Significant variation exists between countries.\n",
    "- Choropleth maps offer powerful visual insights into global impact."
   ]
  }
 ],
 "metadata": {
  "kernelspec": {
   "display_name": "Python 3",
   "language": "python",
   "name": "python3"
  },
  "language_info": {
   "name": "python",
   "version": "3.x"
  }
 },
 "nbformat": 4,
 "nbformat_minor": 2
}
